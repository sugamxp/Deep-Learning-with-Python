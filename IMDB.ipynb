{
 "cells": [
  {
   "cell_type": "code",
   "execution_count": 21,
   "metadata": {},
   "outputs": [],
   "source": [
    "from keras.datasets import imdb"
   ]
  },
  {
   "cell_type": "code",
   "execution_count": 22,
   "metadata": {},
   "outputs": [],
   "source": [
    "(train_data, train_labels) , (test_data, test_labels) = imdb.load_data(num_words=10000)"
   ]
  },
  {
   "cell_type": "code",
   "execution_count": 23,
   "metadata": {},
   "outputs": [
    {
     "data": {
      "text/plain": [
       "218"
      ]
     },
     "execution_count": 23,
     "metadata": {},
     "output_type": "execute_result"
    }
   ],
   "source": [
    "len(train_data[0])"
   ]
  },
  {
   "cell_type": "code",
   "execution_count": 24,
   "metadata": {},
   "outputs": [
    {
     "data": {
      "text/plain": [
       "0"
      ]
     },
     "execution_count": 24,
     "metadata": {},
     "output_type": "execute_result"
    }
   ],
   "source": [
    "test_labels[0]"
   ]
  },
  {
   "cell_type": "markdown",
   "metadata": {},
   "source": [
    "## Decoding the words"
   ]
  },
  {
   "cell_type": "code",
   "execution_count": 25,
   "metadata": {},
   "outputs": [],
   "source": [
    "word_index = imdb.get_word_index()\n",
    "reverse_word_index = dict(\n",
    "[(value, key) for (key, value) in word_index.items()])\n",
    "\n",
    "decoded_review = ' '.join(\n",
    "[reverse_word_index.get(i - 3, '?') for i in train_data[0]])"
   ]
  },
  {
   "cell_type": "markdown",
   "metadata": {},
   "source": [
    "## Preparing the data"
   ]
  },
  {
   "cell_type": "code",
   "execution_count": 26,
   "metadata": {},
   "outputs": [],
   "source": [
    "import numpy as np"
   ]
  },
  {
   "cell_type": "code",
   "execution_count": 27,
   "metadata": {},
   "outputs": [],
   "source": [
    "def vectorize_sequences(sequences, dimension=10000):\n",
    "    results = np.zeros((len(sequences), dimension))\n",
    "    for i, sequence in enumerate(sequences):\n",
    "        results[i, sequence] = 1\n",
    "    return results\n",
    "\n",
    "x_train = vectorize_sequences(train_data)\n",
    "x_test = vectorize_sequences(test_data)"
   ]
  },
  {
   "cell_type": "code",
   "execution_count": 28,
   "metadata": {},
   "outputs": [
    {
     "data": {
      "text/plain": [
       "array([0., 1., 1., ..., 0., 0., 0.])"
      ]
     },
     "execution_count": 28,
     "metadata": {},
     "output_type": "execute_result"
    }
   ],
   "source": [
    "x_train[0]"
   ]
  },
  {
   "cell_type": "code",
   "execution_count": 29,
   "metadata": {},
   "outputs": [],
   "source": [
    "y_train = np.asarray(train_labels).astype('float32')\n",
    "y_test = np.asarray(test_labels).astype('float32')"
   ]
  },
  {
   "cell_type": "markdown",
   "metadata": {},
   "source": [
    "## Building the Network\n",
    "\n",
    "A  type  of  network  that  performs  well  on  such  a  problem  is a simple  stack  of  fully  connected  (Dense)  layers with relu activations: Dense(NOHU,activation='relu').\n",
    "\n",
    "Having  more  hidden  units  (a higher-dimensional representation  space) allows your network to learn more-complex representations, but it makes the network more  computationally  expensive  and  may  lead to  learning  unwanted  patterns  (patterns that will improve performance on the training data but not on the test data"
   ]
  },
  {
   "cell_type": "code",
   "execution_count": 30,
   "metadata": {},
   "outputs": [],
   "source": [
    "from keras import models, layers"
   ]
  },
  {
   "cell_type": "code",
   "execution_count": 31,
   "metadata": {},
   "outputs": [],
   "source": [
    "model = models.Sequential()\n",
    "model.add(layers.Dense(16, activation='relu', input_shape = (10000,)))\n",
    "model.add(layers.Dense(16, activation='relu'))\n",
    "model.add(layers.Dense(1, activation='sigmoid'))"
   ]
  },
  {
   "cell_type": "markdown",
   "metadata": {},
   "source": [
    "### Choosing Loss Function\n",
    "Crossentropy is usually the best choice when you’re dealing\n",
    "with models that output probabilities. Crossentropy\n",
    "is a quantity from the field of Information Theory that measures the distance between probability distributions or, in this case, between the ground-truth distribution and your predictions."
   ]
  },
  {
   "cell_type": "code",
   "execution_count": 32,
   "metadata": {},
   "outputs": [],
   "source": [
    "model.compile(optimizer='rmsprop', loss='binary_crossentropy'\n",
    "             ,metrics = ['accuracy'])"
   ]
  },
  {
   "cell_type": "markdown",
   "metadata": {},
   "source": [
    "### Configuring the optimizer, using custom losses and metrics"
   ]
  },
  {
   "cell_type": "code",
   "execution_count": 33,
   "metadata": {},
   "outputs": [],
   "source": [
    "from keras import optimizers, losses, metrics\n",
    "\n",
    "model.compile(optimizer=optimizers.RMSprop(lr=0.001),\n",
    "             loss = losses.binary_crossentropy,\n",
    "             metrics = [metrics.binary_accuracy])"
   ]
  },
  {
   "cell_type": "markdown",
   "metadata": {},
   "source": [
    "### Validating our approach"
   ]
  },
  {
   "cell_type": "code",
   "execution_count": 34,
   "metadata": {},
   "outputs": [],
   "source": [
    "x_val = x_train[:10000]\n",
    "partial_x_train = x_train[10000:]\n",
    "\n",
    "y_val = y_train[:10000]\n",
    "partial_y_train = y_train[10000:]"
   ]
  },
  {
   "cell_type": "code",
   "execution_count": 35,
   "metadata": {},
   "outputs": [
    {
     "name": "stdout",
     "output_type": "stream",
     "text": [
      "Train on 15000 samples, validate on 10000 samples\n",
      "Epoch 1/20\n",
      "15000/15000 [==============================] - 2s 134us/step - loss: 0.4976 - acc: 0.7953 - val_loss: 0.3717 - val_acc: 0.8723\n",
      "Epoch 2/20\n",
      "15000/15000 [==============================] - 2s 104us/step - loss: 0.2957 - acc: 0.9046 - val_loss: 0.2990 - val_acc: 0.8909\n",
      "Epoch 3/20\n",
      "15000/15000 [==============================] - 2s 104us/step - loss: 0.2160 - acc: 0.9285 - val_loss: 0.3087 - val_acc: 0.8715\n",
      "Epoch 4/20\n",
      "15000/15000 [==============================] - 2s 104us/step - loss: 0.1742 - acc: 0.9432 - val_loss: 0.2831 - val_acc: 0.8839\n",
      "Epoch 5/20\n",
      "15000/15000 [==============================] - 2s 104us/step - loss: 0.1414 - acc: 0.9543 - val_loss: 0.2863 - val_acc: 0.8850\n",
      "Epoch 6/20\n",
      "15000/15000 [==============================] - 2s 104us/step - loss: 0.1143 - acc: 0.9652 - val_loss: 0.3091 - val_acc: 0.8808\n",
      "Epoch 7/20\n",
      "15000/15000 [==============================] - 2s 104us/step - loss: 0.0970 - acc: 0.9709 - val_loss: 0.3147 - val_acc: 0.8844\n",
      "Epoch 8/20\n",
      "15000/15000 [==============================] - 2s 104us/step - loss: 0.0803 - acc: 0.9765 - val_loss: 0.3868 - val_acc: 0.8663\n",
      "Epoch 9/20\n",
      "15000/15000 [==============================] - 2s 106us/step - loss: 0.0658 - acc: 0.9819 - val_loss: 0.3650 - val_acc: 0.8776\n",
      "Epoch 10/20\n",
      "15000/15000 [==============================] - 2s 104us/step - loss: 0.0554 - acc: 0.9850 - val_loss: 0.3864 - val_acc: 0.8789\n",
      "Epoch 11/20\n",
      "15000/15000 [==============================] - 2s 105us/step - loss: 0.0454 - acc: 0.9885 - val_loss: 0.4182 - val_acc: 0.8761\n",
      "Epoch 12/20\n",
      "15000/15000 [==============================] - 2s 104us/step - loss: 0.0386 - acc: 0.9913 - val_loss: 0.4522 - val_acc: 0.8697\n",
      "Epoch 13/20\n",
      "15000/15000 [==============================] - 2s 105us/step - loss: 0.0297 - acc: 0.9939 - val_loss: 0.4717 - val_acc: 0.8738\n",
      "Epoch 14/20\n",
      "15000/15000 [==============================] - 2s 110us/step - loss: 0.0244 - acc: 0.9949 - val_loss: 0.5026 - val_acc: 0.8716\n",
      "Epoch 15/20\n",
      "15000/15000 [==============================] - 2s 106us/step - loss: 0.0185 - acc: 0.9974 - val_loss: 0.5321 - val_acc: 0.8693\n",
      "Epoch 16/20\n",
      "15000/15000 [==============================] - 2s 107us/step - loss: 0.0155 - acc: 0.9981 - val_loss: 0.5714 - val_acc: 0.8693\n",
      "Epoch 17/20\n",
      "15000/15000 [==============================] - 2s 103us/step - loss: 0.0149 - acc: 0.9974 - val_loss: 0.6002 - val_acc: 0.8688\n",
      "Epoch 18/20\n",
      "15000/15000 [==============================] - 2s 103us/step - loss: 0.0102 - acc: 0.9987 - val_loss: 0.6337 - val_acc: 0.8675\n",
      "Epoch 19/20\n",
      "15000/15000 [==============================] - 2s 104us/step - loss: 0.0059 - acc: 0.9998 - val_loss: 0.7207 - val_acc: 0.8572\n",
      "Epoch 20/20\n",
      "15000/15000 [==============================] - 2s 103us/step - loss: 0.0099 - acc: 0.9982 - val_loss: 0.6968 - val_acc: 0.8656\n"
     ]
    }
   ],
   "source": [
    "model.compile(optimizer='rmsprop', loss='binary_crossentropy'\n",
    "             ,metrics = ['acc'])\n",
    "\n",
    "history = model.fit(partial_x_train,\n",
    "                   partial_y_train,\n",
    "                   epochs = 20,\n",
    "                   batch_size = 512,\n",
    "                   validation_data=(x_val, y_val))"
   ]
  },
  {
   "cell_type": "code",
   "execution_count": 36,
   "metadata": {},
   "outputs": [
    {
     "data": {
      "text/plain": [
       "dict_keys(['val_loss', 'val_acc', 'loss', 'acc'])"
      ]
     },
     "execution_count": 36,
     "metadata": {},
     "output_type": "execute_result"
    }
   ],
   "source": [
    "history.history.keys()"
   ]
  },
  {
   "cell_type": "markdown",
   "metadata": {},
   "source": [
    "## Plotting the training and Validation Loss (Overfitting)"
   ]
  },
  {
   "cell_type": "code",
   "execution_count": 37,
   "metadata": {},
   "outputs": [],
   "source": [
    "import matplotlib.pyplot as plt"
   ]
  },
  {
   "cell_type": "code",
   "execution_count": 38,
   "metadata": {},
   "outputs": [
    {
     "data": {
      "image/png": "[encoded data removed]",
      "text/plain": [
       "<Figure size 432x288 with 1 Axes>"
      ]
     },
     "metadata": {},
     "output_type": "display_data"
    }
   ],
   "source": [
    "history_dict = history.history\n",
    "loss_values = history_dict['loss']\n",
    "val_loss_values = history_dict['val_loss']\n",
    "\n",
    "epochs = range(1, len(history_dict['acc']) + 1)\n",
    "\n",
    "plt.plot(epochs, loss_values, 'bo', label = 'Training Loss')\n",
    "plt.plot(epochs, val_loss_values, 'b', label = 'Validation Loss')\n",
    "plt.title('Training and validation loss')\n",
    "plt.xlabel('Epochs')\n",
    "plt.ylabel('Loss')\n",
    "plt.legend()\n",
    "plt.show()"
   ]
  },
  {
   "cell_type": "markdown",
   "metadata": {},
   "source": [
    "## Plotting the training and validation accuracy"
   ]
  },
  {
   "cell_type": "code",
   "execution_count": 39,
   "metadata": {},
   "outputs": [
    {
     "data": {
      "image/png": "[encoded data removed]",
      "text/plain": [
       "<Figure size 432x288 with 1 Axes>"
      ]
     },
     "metadata": {},
     "output_type": "display_data"
    }
   ],
   "source": [
    "plt.clf()\n",
    "acc_values = history_dict['acc']\n",
    "val_acc_values = history_dict['val_acc']\n",
    "\n",
    "plt.plot(epochs, acc_values, 'bo', label = 'Training Accuracy')\n",
    "plt.plot(epochs, val_acc_values, 'b', label = 'Validation Accuracy')\n",
    "plt.title('Training and validation Accuracy')\n",
    "plt.xlabel('Epochs')\n",
    "plt.ylabel('Loss')\n",
    "plt.legend()\n",
    "plt.show()"
   ]
  },
  {
   "cell_type": "markdown",
   "metadata": {},
   "source": [
    "## Retraining the model from scratch"
   ]
  },
  {
   "cell_type": "code",
   "execution_count": 40,
   "metadata": {},
   "outputs": [
    {
     "name": "stdout",
     "output_type": "stream",
     "text": [
      "Epoch 1/4\n",
      "25000/25000 [==============================] - 2s 77us/step - loss: 0.4750 - acc: 0.8218\n",
      "Epoch 2/4\n",
      "25000/25000 [==============================] - 2s 67us/step - loss: 0.2657 - acc: 0.9097\n",
      "Epoch 3/4\n",
      "25000/25000 [==============================] - 2s 67us/step - loss: 0.1983 - acc: 0.9297\n",
      "Epoch 4/4\n",
      "25000/25000 [==============================] - 2s 67us/step - loss: 0.1677 - acc: 0.9404\n",
      "25000/25000 [==============================] - 1s 56us/step\n"
     ]
    }
   ],
   "source": [
    "model = models.Sequential()\n",
    "model.add(layers.Dense(16, activation='relu', input_shape = (10000, )))\n",
    "model.add(layers.Dense(16, activation='relu'))\n",
    "model.add(layers.Dense(1, activation='sigmoid'))\n",
    "\n",
    "model.compile(optimizer='rmsprop',\n",
    "             loss = 'binary_crossentropy',\n",
    "             metrics = ['accuracy'])\n",
    "\n",
    "model.fit(x_train, y_train, epochs = 4, batch_size=512)\n",
    "results = model.evaluate(x_test, y_test)"
   ]
  },
  {
   "cell_type": "code",
   "execution_count": 42,
   "metadata": {},
   "outputs": [
    {
     "data": {
      "text/plain": [
       "[0.32381630864143374, 0.87336]"
      ]
     },
     "execution_count": 42,
     "metadata": {},
     "output_type": "execute_result"
    }
   ],
   "source": [
    "results"
   ]
  },
  {
   "cell_type": "code",
   "execution_count": 43,
   "metadata": {},
   "outputs": [
    {
     "data": {
      "text/plain": [
       "array([[0.13935593],\n",
       "       [0.9996971 ],\n",
       "       [0.2926325 ],\n",
       "       ...,\n",
       "       [0.07119244],\n",
       "       [0.04315602],\n",
       "       [0.4702107 ]], dtype=float32)"
      ]
     },
     "execution_count": 43,
     "metadata": {},
     "output_type": "execute_result"
    }
   ],
   "source": [
    "model.predict(x_test)"
   ]
  },
  {
   "cell_type": "code",
   "execution_count": null,
   "metadata": {},
   "outputs": [],
   "source": []
  }
 ],
 "metadata": {
  "kernelspec": {
   "display_name": "Python 3",
   "language": "python",
   "name": "python3"
  },
  "language_info": {
   "codemirror_mode": {
    "name": "ipython",
    "version": 3
   },
   "file_extension": ".py",
   "mimetype": "text/x-python",
   "name": "python",
   "nbconvert_exporter": "python",
   "pygments_lexer": "ipython3",
   "version": "3.6.5"
  }
 },
 "nbformat": 4,
 "nbformat_minor": 2
}
